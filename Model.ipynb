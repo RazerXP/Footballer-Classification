{
 "cells": [
  {
   "cell_type": "code",
   "execution_count": 4,
   "metadata": {
    "executionInfo": {
     "elapsed": 2701,
     "status": "ok",
     "timestamp": 1722712772794,
     "user": {
      "displayName": "Ritam De",
      "userId": "05449622636195171452"
     },
     "user_tz": -330
    },
    "id": "y4hg9272I05f"
   },
   "outputs": [],
   "source": [
    "from sklearn.svm import SVC\n",
    "from sklearn.preprocessing import StandardScaler\n",
    "from sklearn.model_selection import train_test_split\n",
    "from sklearn.pipeline import Pipeline\n",
    "from sklearn.metrics import classification_report"
   ]
  },
  {
   "cell_type": "code",
   "execution_count": 5,
   "metadata": {
    "executionInfo": {
     "elapsed": 750,
     "status": "ok",
     "timestamp": 1722712940364,
     "user": {
      "displayName": "Ritam De",
      "userId": "05449622636195171452"
     },
     "user_tz": -330
    },
    "id": "ZixlkMphKJBk"
   },
   "outputs": [],
   "source": [
    "import pickle\n",
    "X = pickle.load(open('X.pickle', 'rb'))\n",
    "Y = pickle.load(open('y.pickle', 'rb'))"
   ]
  },
  {
   "cell_type": "code",
   "execution_count": 6,
   "metadata": {
    "colab": {
     "base_uri": "https://localhost:8080/"
    },
    "executionInfo": {
     "elapsed": 8,
     "status": "ok",
     "timestamp": 1722712942488,
     "user": {
      "displayName": "Ritam De",
      "userId": "05449622636195171452"
     },
     "user_tz": -330
    },
    "id": "qmcT7ILhKuiw",
    "outputId": "56487a1b-a7e5-4944-c9b7-5801f535ba9f"
   },
   "outputs": [
    {
     "data": {
      "text/plain": [
       "(169, 4096)"
      ]
     },
     "execution_count": 6,
     "metadata": {},
     "output_type": "execute_result"
    }
   ],
   "source": [
    "X.shape"
   ]
  },
  {
   "cell_type": "code",
   "execution_count": 7,
   "metadata": {
    "colab": {
     "base_uri": "https://localhost:8080/"
    },
    "executionInfo": {
     "elapsed": 652,
     "status": "ok",
     "timestamp": 1722713896954,
     "user": {
      "displayName": "Ritam De",
      "userId": "05449622636195171452"
     },
     "user_tz": -330
    },
    "id": "pKTPkHjTL3iG",
    "outputId": "ebab1420-4a43-4f59-8080-3512f4e5ef31"
   },
   "outputs": [
    {
     "data": {
      "text/plain": [
       "0.813953488372093"
      ]
     },
     "execution_count": 7,
     "metadata": {},
     "output_type": "execute_result"
    }
   ],
   "source": [
    "X_train, X_test, y_train, y_test = train_test_split(X, Y, random_state=0)\n",
    "\n",
    "pipe = Pipeline([('scaler', StandardScaler()), ('svc', SVC(kernel = 'linear', C = 1))])\n",
    "pipe.fit(X_train, y_train)\n",
    "pipe.score(X_test, y_test)"
   ]
  },
  {
   "cell_type": "code",
   "execution_count": 8,
   "metadata": {
    "colab": {
     "base_uri": "https://localhost:8080/"
    },
    "executionInfo": {
     "elapsed": 4,
     "status": "ok",
     "timestamp": 1722713897926,
     "user": {
      "displayName": "Ritam De",
      "userId": "05449622636195171452"
     },
     "user_tz": -330
    },
    "id": "dsv2uMvTRd2P",
    "outputId": "67fe357a-85e2-4284-fa7d-0ade8d5fa983"
   },
   "outputs": [
    {
     "data": {
      "text/plain": [
       "['saved_model.pkl']"
      ]
     },
     "execution_count": 8,
     "metadata": {},
     "output_type": "execute_result"
    }
   ],
   "source": [
    "import joblib\n",
    "# Save the model as a pickle in a file\n",
    "joblib.dump(pipe, 'saved_model.pkl')"
   ]
  },
  {
   "cell_type": "code",
   "execution_count": null,
   "metadata": {},
   "outputs": [],
   "source": []
  }
 ],
 "metadata": {
  "accelerator": "GPU",
  "colab": {
   "authorship_tag": "ABX9TyO3WJ4t8NUdMULouwO60v9m",
   "gpuType": "T4",
   "provenance": []
  },
  "kernelspec": {
   "display_name": "Python 3 (ipykernel)",
   "language": "python",
   "name": "python3"
  },
  "language_info": {
   "codemirror_mode": {
    "name": "ipython",
    "version": 3
   },
   "file_extension": ".py",
   "mimetype": "text/x-python",
   "name": "python",
   "nbconvert_exporter": "python",
   "pygments_lexer": "ipython3",
   "version": "3.12.4"
  }
 },
 "nbformat": 4,
 "nbformat_minor": 4
}
