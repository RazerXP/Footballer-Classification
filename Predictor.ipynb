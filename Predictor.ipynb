{
 "cells": [
  {
   "cell_type": "code",
   "execution_count": 14,
   "metadata": {
    "executionInfo": {
     "elapsed": 26,
     "status": "ok",
     "timestamp": 1722714601298,
     "user": {
      "displayName": "Ritam De",
      "userId": "05449622636195171452"
     },
     "user_tz": -330
    },
    "id": "ztUDel0Jgw_I"
   },
   "outputs": [],
   "source": [
    "import pickle\n",
    "import os\n",
    "import numpy as np\n",
    "import cv2\n",
    "import matplotlib\n",
    "from matplotlib import pyplot as plt\n",
    "%matplotlib inline"
   ]
  },
  {
   "cell_type": "code",
   "execution_count": 32,
   "metadata": {
    "executionInfo": {
     "elapsed": 17,
     "status": "ok",
     "timestamp": 1722714602946,
     "user": {
      "displayName": "Ritam De",
      "userId": "05449622636195171452"
     },
     "user_tz": -330
    },
    "id": "dmq1u4QqikRf"
   },
   "outputs": [],
   "source": [
    "import numpy as np\n",
    "import pywt\n",
    "\n",
    "def w2d(img, mode='haar', level=1):\n",
    "    imArray = img\n",
    "    #Datatype conversions\n",
    "    #convert to grayscale\n",
    "    imArray = cv2.cvtColor( imArray,cv2.COLOR_RGB2GRAY )\n",
    "    #convert to float\n",
    "    imArray =  np.float32(imArray)\n",
    "    imArray /= 255;\n",
    "    # compute coefficients\n",
    "    coeffs=pywt.wavedec2(imArray, mode, level=level)\n",
    "\n",
    "    #Process Coefficients\n",
    "    coeffs_H=list(coeffs)\n",
    "    coeffs_H[0] *= 0;\n",
    "\n",
    "    # reconstruction\n",
    "    imArray_H=pywt.waverec2(coeffs_H, mode);\n",
    "    imArray_H *= 255;\n",
    "    imArray_H =  np.uint8(imArray_H)\n",
    "\n",
    "    return imArray_H"
   ]
  },
  {
   "cell_type": "code",
   "execution_count": 63,
   "metadata": {
    "colab": {
     "base_uri": "https://localhost:8080/",
     "height": 413
    },
    "executionInfo": {
     "elapsed": 909,
     "status": "ok",
     "timestamp": 1722714602218,
     "user": {
      "displayName": "Ritam De",
      "userId": "05449622636195171452"
     },
     "user_tz": -330
    },
    "id": "NG8Lu6xjg312",
    "outputId": "96524fcb-5dd3-4e1a-9215-c682f85b2463"
   },
   "outputs": [
    {
     "data": {
      "text/plain": [
       "['bernardo', 'bernardo', 'debruyne', 'debruyne', 'haaland', 'rodri']"
      ]
     },
     "execution_count": 63,
     "metadata": {},
     "output_type": "execute_result"
    }
   ],
   "source": [
    "test_images_dir = \"./testimages/\"\n",
    "test_X = []\n",
    "test_Y = []\n",
    "for img in os.scandir(test_images_dir):\n",
    "    this_img = cv2.imread(img.path)\n",
    "    footballer_name = os.path.basename(img.path)\n",
    "    test_Y.append(os.path.splitext(footballer_name)[0][0:-1])\n",
    "    \n",
    "    face_cascade = cv2.CascadeClassifier('./haarcascades/haarcascade_frontalface_default.xml')\n",
    "    gray = cv2.cvtColor(this_img, cv2.COLOR_BGR2GRAY)\n",
    "    faces = face_cascade.detectMultiScale(gray, 1.3, 5)\n",
    "    (x,y,w,h) = faces[0]\n",
    "    roi_color = this_img[y:y+h, x:x+w]\n",
    "    \n",
    "    cropped_img = np.array(roi_color)\n",
    "    scalled_raw_img = cv2.resize(cropped_img, (32, 32))\n",
    "    img_har = w2d(cropped_img,'db1',5)\n",
    "    scalled_img_har = cv2.resize(img_har, (32, 32))\n",
    "    combined_img = np.vstack((scalled_raw_img.reshape(32*32*3,1),scalled_img_har.reshape(32*32,1))).astype(float)\n",
    "    combined_img = combined_img.reshape(4096,).astype(float)\n",
    "    test_X.append(combined_img)\n",
    "test_Y"
   ]
  },
  {
   "cell_type": "code",
   "execution_count": 64,
   "metadata": {
    "executionInfo": {
     "elapsed": 16,
     "status": "ok",
     "timestamp": 1722714603301,
     "user": {
      "displayName": "Ritam De",
      "userId": "05449622636195171452"
     },
     "user_tz": -330
    },
    "id": "V9J4uwBsju-z"
   },
   "outputs": [],
   "source": [
    "from sklearn.pipeline import Pipeline"
   ]
  },
  {
   "cell_type": "code",
   "execution_count": 65,
   "metadata": {
    "colab": {
     "base_uri": "https://localhost:8080/"
    },
    "executionInfo": {
     "elapsed": 16,
     "status": "ok",
     "timestamp": 1722714603324,
     "user": {
      "displayName": "Ritam De",
      "userId": "05449622636195171452"
     },
     "user_tz": -330
    },
    "id": "wiNMMzLPkVzp",
    "outputId": "1584ac16-3840-4f62-bb75-aac38203ff19"
   },
   "outputs": [],
   "source": [
    "import joblib\n",
    "pipe = joblib.load('saved_model.pkl')\n",
    "result = pipe.predict(test_X)"
   ]
  },
  {
   "cell_type": "code",
   "execution_count": 95,
   "metadata": {
    "colab": {
     "base_uri": "https://localhost:8080/"
    },
    "executionInfo": {
     "elapsed": 7,
     "status": "ok",
     "timestamp": 1722714603333,
     "user": {
      "displayName": "Ritam De",
      "userId": "05449622636195171452"
     },
     "user_tz": -330
    },
    "id": "mni-DTRBkevf",
    "outputId": "4a3ee58c-0e8c-4ded-966d-6c15457b7da2"
   },
   "outputs": [
    {
     "name": "stdout",
     "output_type": "stream",
     "text": [
      "| PREDICTION : Rodri        |  ACTUAL : bernardo   |\n",
      "| PREDICTION : Bernardo     |  ACTUAL : bernardo   |\n",
      "| PREDICTION : De Bruyne    |  ACTUAL : debruyne   |\n",
      "| PREDICTION : De Bruyne    |  ACTUAL : debruyne   |\n",
      "| PREDICTION : Haaland      |  ACTUAL : haaland    |\n",
      "| PREDICTION : Rodri        |  ACTUAL : rodri      |\n",
      "\n",
      "Accuracy on Test Cases:  0.8333333333333334\n"
     ]
    }
   ],
   "source": [
    "keys = {0:'Bernardo', 1:'De Bruyne', 2:'Foden', 3:'Haaland', 4:'Rodri'}\n",
    "correct = 0;\n",
    "count = 0;\n",
    "for i in result:\n",
    "    print('| {:<25} | {:<20} |'.format(\"PREDICTION : \"+keys[i], \" ACTUAL : \"+test_Y[count]))\n",
    "    if test_Y[count] == keys[i].lower().replace(\" \", ''): correct +=1 \n",
    "    count += 1\n",
    "print(\"\\nAccuracy on Test Cases: \", correct/count)"
   ]
  }
 ],
 "metadata": {
  "colab": {
   "authorship_tag": "ABX9TyPnXQiIjw3bcBSNBu/CUngX",
   "provenance": []
  },
  "kernelspec": {
   "display_name": "Python 3 (ipykernel)",
   "language": "python",
   "name": "python3"
  },
  "language_info": {
   "codemirror_mode": {
    "name": "ipython",
    "version": 3
   },
   "file_extension": ".py",
   "mimetype": "text/x-python",
   "name": "python",
   "nbconvert_exporter": "python",
   "pygments_lexer": "ipython3",
   "version": "3.12.4"
  }
 },
 "nbformat": 4,
 "nbformat_minor": 4
}
